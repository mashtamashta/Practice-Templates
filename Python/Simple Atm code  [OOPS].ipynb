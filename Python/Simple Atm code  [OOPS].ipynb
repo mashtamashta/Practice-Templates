{
 "cells": [
  {
   "cell_type": "code",
   "execution_count": 1,
   "id": "428ebc1c",
   "metadata": {},
   "outputs": [],
   "source": [
    "#lets start wtih making a class:"
   ]
  },
  {
   "cell_type": "code",
   "execution_count": 2,
   "id": "6466a623",
   "metadata": {},
   "outputs": [],
   "source": [
    "# Class of a person going to ATM for withdrawl and other work.\n",
    "#Attributes : Balance, pin, Account number\n",
    "#Functions : deposit, withdrawl, change pin, check balnace    "
   ]
  },
  {
   "cell_type": "markdown",
   "id": "ba96867a",
   "metadata": {},
   "source": [
    "# Class Atm:\n",
    "    def __init__(self):\n",
    "        \n",
    "        self.pin = \"\"\n",
    "        self.balance = 0\n",
    "        \n",
    "        self.menu()\n",
    "        \n",
    "    def menu(self):\n",
    "        user_input = input(\"\"\"\n",
    "            Hello, welcome to banking menu,\n",
    "            Please select your desired option\n",
    "            1. Enter 1 to create pin\n",
    "            2. Enter 2 to deposit\n",
    "            3. Enter 3 to withdraw\n",
    "            4. Enter 4 to check balance\n",
    "            5. Enter 5 to exit \"\"\")\n",
    "        if user_input == '1':\n",
    "            print('Pin set')\n",
    "        elif user_input == '2':\n",
    "            print('Deposit successful')\n",
    "        elif user_input == '3':\n",
    "            print('Withdrawl successful')\n",
    "        elif user_input == '4':\n",
    "            print('Balance Check')\n",
    "        elif user_input == '5':\n",
    "            print(\"GoodBye, Have a nice day!\")\n",
    "        else:\n",
    "            print('Invalid input !!!')"
   ]
  },
  {
   "cell_type": "code",
   "execution_count": 7,
   "id": "6ee31a9e",
   "metadata": {},
   "outputs": [],
   "source": [
    "# Now adding methods\n",
    "class Atm:\n",
    "    def __init__(self):\n",
    "        \n",
    "        self.pin = \"\"\n",
    "        self.balance = 0\n",
    "        \n",
    "        self.menu()\n",
    "        \n",
    "    def menu(self):\n",
    "        user_input = input(\"\"\"\n",
    "            Hello, welcome to banking menu,\n",
    "            Please select your desired option\n",
    "            1. Enter 1 to create pin\n",
    "            2. Enter 2 to deposit\n",
    "            3. Enter 3 to withdraw\n",
    "            4. Enter 4 to check balance\n",
    "            5. Enter 5 to exit \"\"\")\n",
    "        if user_input == '1':\n",
    "            self.create_pin()\n",
    "        elif user_input == '2':\n",
    "            self.deposit()\n",
    "        elif user_input == '3':\n",
    "            self.withdrawl()\n",
    "        elif user_input == '4':\n",
    "            self.balance_check()\n",
    "        elif user_input == '5':\n",
    "            print(\"GoodBye, Have a nice day!\")\n",
    "        else:\n",
    "            print('Invalid input !!!')\n",
    "            \n",
    "    def create_pin(self):\n",
    "        self.pin = input('Enter Pin')\n",
    "        print('Pin set successfully!')\n",
    "        \n",
    "    def deposit(self):\n",
    "        temp = input(\"Enter your pin!\")\n",
    "        if temp== self.pin:\n",
    "            amount = int(input('Enter the amount!'))\n",
    "            self.balance = self.balance+ amount \n",
    "            print('Deposit Successful!')\n",
    "        else:\n",
    "            print('Invalid Pin!!!')\n",
    "            \n",
    "            \n",
    "    def withdrawl(self):\n",
    "        temp1 = input(\"Enter your pin!\")\n",
    "        if temp1 == self.pin:\n",
    "            amount1 = int(input(\"Enter amount to be withdrawn!\"))\n",
    "            if amount1 <= self.balance:\n",
    "                self.balance = self.balance - amount1\n",
    "                print('Withdrawl successful!')\n",
    "            else:\n",
    "                print('Insufficient Balance!')\n",
    "        else:\n",
    "            print(\"invalid pin!\")\n",
    "            \n",
    "     \n",
    "    def balance_check(self):\n",
    "        temp1 = input(\"Enter your pin!\")\n",
    "        if temp1 == self.pin:\n",
    "            print(self.balance)\n",
    "        else:\n",
    "            print(\"Incorrect Pin!\")"
   ]
  },
  {
   "cell_type": "code",
   "execution_count": 8,
   "id": "7b0f5ca2",
   "metadata": {},
   "outputs": [
    {
     "name": "stdout",
     "output_type": "stream",
     "text": [
      "\n",
      "            Hello, welcome to banking menu,\n",
      "            Please select your desired option\n",
      "            1. Enter 1 to create pin\n",
      "            2. Enter 2 to deposit\n",
      "            3. Enter 3 to withdraw\n",
      "            4. Enter 4 to check balance\n",
      "            5. Enter 5 to exit 1\n",
      "Enter Pin1234\n",
      "Pin set successfully!\n"
     ]
    }
   ],
   "source": [
    "sbi = Atm()"
   ]
  },
  {
   "cell_type": "code",
   "execution_count": 9,
   "id": "284f3f86",
   "metadata": {},
   "outputs": [
    {
     "name": "stdout",
     "output_type": "stream",
     "text": [
      "Enter your pin!1234\n",
      "Enter the amount!125000\n",
      "Deposit Successful!\n"
     ]
    }
   ],
   "source": [
    "sbi.deposit()"
   ]
  },
  {
   "cell_type": "code",
   "execution_count": 10,
   "id": "a4135ad2",
   "metadata": {},
   "outputs": [
    {
     "name": "stdout",
     "output_type": "stream",
     "text": [
      "Enter your pin!1234\n",
      "125000\n"
     ]
    }
   ],
   "source": [
    "sbi.balance_check()"
   ]
  },
  {
   "cell_type": "code",
   "execution_count": 11,
   "id": "351aff28",
   "metadata": {},
   "outputs": [
    {
     "name": "stdout",
     "output_type": "stream",
     "text": [
      "Enter your pin!1234\n",
      "Enter amount to be withdrawn!75000\n",
      "Withdrawl successful!\n"
     ]
    }
   ],
   "source": [
    "sbi.withdrawl()"
   ]
  },
  {
   "cell_type": "code",
   "execution_count": 12,
   "id": "92fa08b7",
   "metadata": {},
   "outputs": [
    {
     "name": "stdout",
     "output_type": "stream",
     "text": [
      "Enter your pin!1234\n",
      "50000\n"
     ]
    }
   ],
   "source": [
    "sbi.balance_check()"
   ]
  },
  {
   "cell_type": "code",
   "execution_count": 13,
   "id": "b7527572",
   "metadata": {},
   "outputs": [
    {
     "name": "stdout",
     "output_type": "stream",
     "text": [
      "\n",
      "            Hello, welcome to banking menu,\n",
      "            Please select your desired option\n",
      "            1. Enter 1 to create pin\n",
      "            2. Enter 2 to deposit\n",
      "            3. Enter 3 to withdraw\n",
      "            4. Enter 4 to check balance\n",
      "            5. Enter 5 to exit 1\n",
      "Enter Pin2345\n",
      "Pin set successfully!\n"
     ]
    }
   ],
   "source": [
    "hdfc = Atm()"
   ]
  },
  {
   "cell_type": "code",
   "execution_count": 14,
   "id": "9a6049c2",
   "metadata": {},
   "outputs": [
    {
     "name": "stdout",
     "output_type": "stream",
     "text": [
      "Enter your pin!2345\n",
      "0\n"
     ]
    }
   ],
   "source": [
    "hdfc.balance_check()"
   ]
  },
  {
   "cell_type": "code",
   "execution_count": 15,
   "id": "ec0a1d60",
   "metadata": {},
   "outputs": [
    {
     "name": "stdout",
     "output_type": "stream",
     "text": [
      "Enter your pin!2345\n",
      "Enter the amount!250000\n",
      "Deposit Successful!\n"
     ]
    }
   ],
   "source": [
    "hdfc.deposit()"
   ]
  },
  {
   "cell_type": "code",
   "execution_count": 16,
   "id": "0e48eccc",
   "metadata": {},
   "outputs": [
    {
     "name": "stdout",
     "output_type": "stream",
     "text": [
      "Enter your pin!2345\n",
      "250000\n"
     ]
    }
   ],
   "source": [
    "hdfc.balance_check()"
   ]
  },
  {
   "cell_type": "code",
   "execution_count": 17,
   "id": "5a225d20",
   "metadata": {},
   "outputs": [
    {
     "name": "stdout",
     "output_type": "stream",
     "text": [
      "Enter your pin!2345\n",
      "Enter amount to be withdrawn!75000\n",
      "Withdrawl successful!\n"
     ]
    }
   ],
   "source": [
    "hdfc.withdrawl()"
   ]
  },
  {
   "cell_type": "code",
   "execution_count": 18,
   "id": "c159d085",
   "metadata": {},
   "outputs": [
    {
     "name": "stdout",
     "output_type": "stream",
     "text": [
      "Enter your pin!2345\n",
      "175000\n"
     ]
    }
   ],
   "source": [
    "hdfc.balance_check()"
   ]
  },
  {
   "cell_type": "code",
   "execution_count": null,
   "id": "259111be",
   "metadata": {},
   "outputs": [],
   "source": []
  }
 ],
 "metadata": {
  "kernelspec": {
   "display_name": "Python 3 (ipykernel)",
   "language": "python",
   "name": "python3"
  },
  "language_info": {
   "codemirror_mode": {
    "name": "ipython",
    "version": 3
   },
   "file_extension": ".py",
   "mimetype": "text/x-python",
   "name": "python",
   "nbconvert_exporter": "python",
   "pygments_lexer": "ipython3",
   "version": "3.9.7"
  }
 },
 "nbformat": 4,
 "nbformat_minor": 5
}
