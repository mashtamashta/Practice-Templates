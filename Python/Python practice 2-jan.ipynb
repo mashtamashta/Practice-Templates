{
 "cells": [
  {
   "cell_type": "markdown",
   "id": "387dca13",
   "metadata": {},
   "source": [
    "Greatest among three numbers"
   ]
  },
  {
   "cell_type": "code",
   "execution_count": 1,
   "id": "d7813c37",
   "metadata": {},
   "outputs": [
    {
     "name": "stdout",
     "output_type": "stream",
     "text": [
      "Enter the first number 13\n",
      "Enter the second number 11\n",
      "Enter the third number 8\n",
      "The first number is greatest\n"
     ]
    }
   ],
   "source": [
    "a = int(input('Enter the first number '))\n",
    "b = int(input('Enter the second number '))\n",
    "c = int(input('Enter the third number '))\n",
    "\n",
    "if a>b and b>c:\n",
    "    print('The first number is greatest')\n",
    "elif a<b and b>c:\n",
    "    print('Second number is greatest')\n",
    "else:\n",
    "    print(\"third number is greatest\")"
   ]
  },
  {
   "cell_type": "markdown",
   "id": "cfd907ae",
   "metadata": {},
   "source": [
    "Celcius to farenhite"
   ]
  },
  {
   "cell_type": "code",
   "execution_count": 6,
   "id": "746248a6",
   "metadata": {},
   "outputs": [
    {
     "name": "stdout",
     "output_type": "stream",
     "text": [
      "Enter temp in Celcius-54\n",
      "Temprauture in faenhite is -65.2.\n"
     ]
    }
   ],
   "source": [
    "x = float(input('Enter temp in Celcius'))\n",
    "f = 1.8*x + 32\n",
    "print(\"Temprauture in faenhite is {}.\".format(f)) #Fromatted strings"
   ]
  },
  {
   "cell_type": "markdown",
   "id": "4186da04",
   "metadata": {},
   "source": [
    "Swapping the two numbers"
   ]
  },
  {
   "cell_type": "code",
   "execution_count": 8,
   "id": "5436c10c",
   "metadata": {},
   "outputs": [
    {
     "name": "stdout",
     "output_type": "stream",
     "text": [
      "Enter first numbeer 11\n",
      "Enter Second numbeer 12\n",
      "12\n",
      "11\n"
     ]
    }
   ],
   "source": [
    "a = input('Enter first numbeer ')\n",
    "b = input('Enter Second numbeer ')\n",
    "\n",
    "\n",
    "temp = a\n",
    "a = b\n",
    "b = temp\n",
    "\n",
    "print(a)\n",
    "print(b)"
   ]
  },
  {
   "cell_type": "markdown",
   "id": "4138c9df",
   "metadata": {},
   "source": [
    "Enter a three digit number and clauclate its sum"
   ]
  },
  {
   "cell_type": "code",
   "execution_count": 10,
   "id": "a894582d",
   "metadata": {},
   "outputs": [
    {
     "name": "stdout",
     "output_type": "stream",
     "text": [
      "Enter a three digit integer. 234\n",
      "Sum is 9.\n"
     ]
    }
   ],
   "source": [
    "num = int(input(\"Enter a three digit integer. \"))\n",
    "a = num%10 #last number\n",
    "num = num//10 #saperate first two numbers\n",
    "b = num%10\n",
    "c = num // 10 \n",
    "\n",
    "sum = a+b+c\n",
    "print('Sum is {}.'.format(sum))"
   ]
  },
  {
   "cell_type": "markdown",
   "id": "40d89652",
   "metadata": {},
   "source": [
    "Reverse the four digit number and check if its same as input"
   ]
  },
  {
   "cell_type": "code",
   "execution_count": 11,
   "id": "eabe73ea",
   "metadata": {},
   "outputs": [
    {
     "name": "stdout",
     "output_type": "stream",
     "text": [
      "Enter a 4 digit number: 1221\n",
      "Orignal number is 12 and reversed number is 1221.)\n"
     ]
    }
   ],
   "source": [
    "num = int(input(\"Enter a 4 digit number: \"))\n",
    "a = num% 10\n",
    "num = num//10\n",
    "\n",
    "b = num%10\n",
    "num = num//10\n",
    "\n",
    "c = num%10\n",
    "d  = num//10\n",
    "\n",
    "\n",
    "rev = 1000*a + 100*b + 10*c + d\n",
    "\n",
    "if num == rev:\n",
    "    print('Orignal number and reversed numbers are same as {}'.format(num))\n",
    "else:\n",
    "    print('Orignal number is {} and reversed number is {}.)'. format(num,rev))"
   ]
  },
  {
   "cell_type": "code",
   "execution_count": 12,
   "id": "26cf7b1f",
   "metadata": {},
   "outputs": [
    {
     "name": "stdout",
     "output_type": "stream",
     "text": [
      "Enter a 4 digit number: 1234\n",
      "Orignal number is 12 and reversed number is 4321.)\n"
     ]
    }
   ],
   "source": [
    "num = int(input(\"Enter a 4 digit number: \"))\n",
    "a = num% 10\n",
    "num = num//10\n",
    "\n",
    "b = num%10\n",
    "num = num//10\n",
    "\n",
    "c = num%10\n",
    "d  = num//10\n",
    "\n",
    "\n",
    "rev = 1000*a + 100*b + 10*c + d\n",
    "\n",
    "if num == rev:\n",
    "    print('Orignal number and reversed numbers are same as {}'.format(num))\n",
    "else:\n",
    "    print('Orignal number is {} and reversed number is {}.)'. format(num,rev))"
   ]
  },
  {
   "cell_type": "markdown",
   "id": "e1689b1b",
   "metadata": {},
   "source": [
    "Odd or even number"
   ]
  },
  {
   "cell_type": "code",
   "execution_count": 13,
   "id": "321eb2d7",
   "metadata": {},
   "outputs": [
    {
     "name": "stdout",
     "output_type": "stream",
     "text": [
      " Enter an integer: 23\n",
      "Odd  Number\n"
     ]
    }
   ],
   "source": [
    "a = int(input(\" Enter an integer: \"))\n",
    "if a%2 == 0:\n",
    "    print(\"even number.\")\n",
    "else:\n",
    "    print('Odd  Number')"
   ]
  },
  {
   "cell_type": "code",
   "execution_count": null,
   "id": "9c3e3e49",
   "metadata": {},
   "outputs": [],
   "source": []
  }
 ],
 "metadata": {
  "kernelspec": {
   "display_name": "Python 3 (ipykernel)",
   "language": "python",
   "name": "python3"
  },
  "language_info": {
   "codemirror_mode": {
    "name": "ipython",
    "version": 3
   },
   "file_extension": ".py",
   "mimetype": "text/x-python",
   "name": "python",
   "nbconvert_exporter": "python",
   "pygments_lexer": "ipython3",
   "version": "3.9.7"
  }
 },
 "nbformat": 4,
 "nbformat_minor": 5
}
