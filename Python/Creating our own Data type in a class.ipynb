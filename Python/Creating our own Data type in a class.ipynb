{
 "cells": [
  {
   "cell_type": "markdown",
   "id": "64810446",
   "metadata": {},
   "source": [
    "class Fraction():\n",
    "    \n",
    "    \n",
    "    def __init__(self, n, d):\n",
    "        self.num = n\n",
    "        self.den = d"
   ]
  },
  {
   "cell_type": "code",
   "execution_count": 4,
   "id": "a1a19777",
   "metadata": {},
   "outputs": [],
   "source": [
    "x = Fraction(4,5)"
   ]
  },
  {
   "cell_type": "code",
   "execution_count": 5,
   "id": "1e9939b5",
   "metadata": {},
   "outputs": [
    {
     "data": {
      "text/plain": [
       "<__main__.Fraction at 0x17116e96e50>"
      ]
     },
     "execution_count": 5,
     "metadata": {},
     "output_type": "execute_result"
    }
   ],
   "source": [
    "x"
   ]
  },
  {
   "cell_type": "markdown",
   "id": "ad9a1559",
   "metadata": {},
   "source": [
    "# Using Magic Methods"
   ]
  },
  {
   "cell_type": "markdown",
   "id": "8dca397c",
   "metadata": {},
   "source": [
    "class Fraction():\n",
    "    \n",
    "    \n",
    "    def __init__(self, n, d):\n",
    "        self.num = n\n",
    "        self.den = d\n",
    "        \n",
    "    def __str__(self):\n",
    "        return 'Hello'"
   ]
  },
  {
   "cell_type": "markdown",
   "id": "c8c94b77",
   "metadata": {},
   "source": [
    "y = Fraction(3,4)\n",
    "print(y)"
   ]
  },
  {
   "cell_type": "code",
   "execution_count": 9,
   "id": "d0d86c62",
   "metadata": {},
   "outputs": [],
   "source": [
    "# __str__ whenever we use print on an object it calls __str__ method and whatever is in it."
   ]
  },
  {
   "cell_type": "code",
   "execution_count": 13,
   "id": "57561e60",
   "metadata": {},
   "outputs": [
    {
     "name": "stdout",
     "output_type": "stream",
     "text": [
      "4/5\n"
     ]
    }
   ],
   "source": [
    "class Fraction():\n",
    "\n",
    "    def __init__(self, n, d):\n",
    "        self.num = n\n",
    "        self.den = d\n",
    "\n",
    "    def __str__(self):\n",
    "        return \"{}/{}\".format(self.num,self.den)\n",
    "    \n",
    "    \n",
    "z = Fraction(4,5)\n",
    "print(z)"
   ]
  },
  {
   "cell_type": "markdown",
   "id": "5abfd71d",
   "metadata": {},
   "source": [
    "# Adding the fractions\n",
    "\n",
    "### Using __add__ to add tow objects of the class \n",
    "#### Gets automatically called when we try to add two objects"
   ]
  },
  {
   "cell_type": "code",
   "execution_count": 15,
   "id": "ae0030c9",
   "metadata": {},
   "outputs": [
    {
     "name": "stdout",
     "output_type": "stream",
     "text": [
      "4/5\n",
      "5/7\n",
      "53/35\n"
     ]
    }
   ],
   "source": [
    "class Fraction():\n",
    "\n",
    "    def __init__(self, n, d):\n",
    "        self.num = n\n",
    "        self.den = d\n",
    "\n",
    "    def __str__(self):\n",
    "        return \"{}/{}\".format(self.num,self.den)\n",
    "    \n",
    "    def __add__(self,other): # will need 2 objects unless cant add\n",
    "        temp_num = self.num*other.den + self.den*other.num\n",
    "        temp_den = self.den*other.den\n",
    "        return \"{}/{}\".format(temp_num,temp_den)\n",
    "        \n",
    "    \n",
    "    \n",
    "z = Fraction(4,5)\n",
    "print(z)\n",
    "\n",
    "x = Fraction(5,7)\n",
    "print(x)\n",
    "\n",
    "print(z+x)"
   ]
  },
  {
   "cell_type": "markdown",
   "id": "c571af70",
   "metadata": {},
   "source": [
    "###   _ _sub_ _"
   ]
  },
  {
   "cell_type": "code",
   "execution_count": 17,
   "id": "067a7372",
   "metadata": {},
   "outputs": [
    {
     "name": "stdout",
     "output_type": "stream",
     "text": [
      "4/5\n",
      "5/7\n",
      "-3/35\n"
     ]
    }
   ],
   "source": [
    "class Fraction():\n",
    "\n",
    "    def __init__(self, n, d):\n",
    "        self.num = n\n",
    "        self.den = d\n",
    "\n",
    "    def __str__(self):\n",
    "        return \"{}/{}\".format(self.num,self.den)\n",
    "    \n",
    "    def __sub__(self,other): # will need 2 objects unless cant add\n",
    "        temp_num = self.num*other.den - self.den*other.num\n",
    "        temp_den = self.den*other.den\n",
    "        return \"{}/{}\".format(temp_num,temp_den)\n",
    "        \n",
    "    \n",
    "    \n",
    "z = Fraction(4,5)\n",
    "print(z)\n",
    "\n",
    "x = Fraction(5,7)\n",
    "print(x)\n",
    "\n",
    "print(x-z)"
   ]
  },
  {
   "cell_type": "code",
   "execution_count": 18,
   "id": "fb557d9c",
   "metadata": {},
   "outputs": [
    {
     "name": "stdout",
     "output_type": "stream",
     "text": [
      "4/5\n",
      "5/7\n",
      "25/28\n"
     ]
    }
   ],
   "source": [
    "# True div for Divsion\n",
    "\n",
    "\n",
    "class Fraction():\n",
    "\n",
    "    def __init__(self, n, d):\n",
    "        self.num = n\n",
    "        self.den = d\n",
    "\n",
    "    def __str__(self):\n",
    "        return \"{}/{}\".format(self.num,self.den)\n",
    "    \n",
    "    def __truediv__(self,other): # will need 2 objects unless cant add\n",
    "        temp_num = self.num*other.den \n",
    "        temp_den = self.den*other.num\n",
    "        return \"{}/{}\".format(temp_num,temp_den)\n",
    "    \n",
    "    \n",
    "    \n",
    "z = Fraction(4,5)\n",
    "print(z)\n",
    "\n",
    "x = Fraction(5,7)\n",
    "print(x)\n",
    "\n",
    "print(x/z)"
   ]
  },
  {
   "cell_type": "code",
   "execution_count": 19,
   "id": "2dc95312",
   "metadata": {},
   "outputs": [
    {
     "name": "stdout",
     "output_type": "stream",
     "text": [
      "4/5\n",
      "5/7\n",
      "20/35\n"
     ]
    }
   ],
   "source": [
    "# multipplication __mul__\n",
    "\n",
    "\n",
    "class Fraction():\n",
    "\n",
    "    def __init__(self, n, d):\n",
    "        self.num = n\n",
    "        self.den = d\n",
    "\n",
    "    def __str__(self):\n",
    "        return \"{}/{}\".format(self.num,self.den)\n",
    "    \n",
    "    def __mul__(self,other): # will need 2 objects unless cant add\n",
    "        temp_num = self.num*other.num\n",
    "        temp_den = self.den*other.den\n",
    "        return \"{}/{}\".format(temp_num,temp_den)\n",
    "    \n",
    "    \n",
    "    \n",
    "z = Fraction(4,5)\n",
    "print(z)\n",
    "\n",
    "x = Fraction(5,7)\n",
    "print(x)\n",
    "\n",
    "print(x*z)"
   ]
  },
  {
   "cell_type": "code",
   "execution_count": null,
   "id": "7163c200",
   "metadata": {},
   "outputs": [],
   "source": []
  }
 ],
 "metadata": {
  "kernelspec": {
   "display_name": "Python 3 (ipykernel)",
   "language": "python",
   "name": "python3"
  },
  "language_info": {
   "codemirror_mode": {
    "name": "ipython",
    "version": 3
   },
   "file_extension": ".py",
   "mimetype": "text/x-python",
   "name": "python",
   "nbconvert_exporter": "python",
   "pygments_lexer": "ipython3",
   "version": "3.9.7"
  }
 },
 "nbformat": 4,
 "nbformat_minor": 5
}
