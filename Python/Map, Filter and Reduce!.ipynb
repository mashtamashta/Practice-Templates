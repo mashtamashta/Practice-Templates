{
 "cells": [
  {
   "cell_type": "markdown",
   "id": "0ddd5c32",
   "metadata": {},
   "source": [
    "# Map\n",
    "\n",
    "## perdorms operation in the whole list"
   ]
  },
  {
   "cell_type": "code",
   "execution_count": 2,
   "id": "7625c372",
   "metadata": {},
   "outputs": [
    {
     "data": {
      "text/plain": [
       "[2, 4, 6, 8, 10, 12, 14]"
      ]
     },
     "execution_count": 2,
     "metadata": {},
     "output_type": "execute_result"
    }
   ],
   "source": [
    "# Map to perform a functon om an iterable (Funvtion is a lambda funcation)\n",
    "\n",
    "# Syntax  map(fnc, iterable)\n",
    "\n",
    "L =[1,2,3,4,5,6,7]\n",
    "\n",
    "# Make list double\n",
    "\n",
    "a = map(lambda x:x*2, L)\n",
    "list(a)"
   ]
  },
  {
   "cell_type": "code",
   "execution_count": 3,
   "id": "ddfc91ba",
   "metadata": {},
   "outputs": [],
   "source": [
    "#Map returns a map object, thus we need to typecast it to a list to display"
   ]
  },
  {
   "cell_type": "code",
   "execution_count": 6,
   "id": "c1771aa9",
   "metadata": {},
   "outputs": [
    {
     "data": {
      "text/plain": [
       "[False, True, False, True, False, True, False]"
      ]
     },
     "execution_count": 6,
     "metadata": {},
     "output_type": "execute_result"
    }
   ],
   "source": [
    "## Odd or even number\n",
    "\n",
    "list(map(lambda x:x%2==0,L))"
   ]
  },
  {
   "cell_type": "markdown",
   "id": "c1c6db72",
   "metadata": {},
   "source": [
    "# Filter\n",
    "\n",
    "## just gives out the elements which satisfy the condition"
   ]
  },
  {
   "cell_type": "code",
   "execution_count": 7,
   "id": "856bac37",
   "metadata": {},
   "outputs": [
    {
     "data": {
      "text/plain": [
       "[5, 6, 7]"
      ]
     },
     "execution_count": 7,
     "metadata": {},
     "output_type": "execute_result"
    }
   ],
   "source": [
    "list(filter(lambda x :x >=5, L))"
   ]
  },
  {
   "cell_type": "code",
   "execution_count": 8,
   "id": "68ab46f3",
   "metadata": {},
   "outputs": [
    {
     "data": {
      "text/plain": [
       "['apple', 'peach']"
      ]
     },
     "execution_count": 8,
     "metadata": {},
     "output_type": "execute_result"
    }
   ],
   "source": [
    "fruits=['apple', 'mango','peach','guvava']\n",
    "\n",
    "#fruitss with letter in name\n",
    "\n",
    "\n",
    "list(filter(lambda x:'e' in x, fruits))"
   ]
  },
  {
   "cell_type": "markdown",
   "id": "0c3e1d01",
   "metadata": {},
   "source": [
    "# Reduce\n",
    "#### firstly we have to import it : import functools\n",
    "\n",
    "## Reduce the list to a single element baseed on required condition\n",
    "\n",
    "###  example finding sum of the list\n",
    "\n",
    "#### no need to convert it into a list"
   ]
  },
  {
   "cell_type": "code",
   "execution_count": 9,
   "id": "38650fe5",
   "metadata": {},
   "outputs": [],
   "source": [
    "import functools"
   ]
  },
  {
   "cell_type": "code",
   "execution_count": 10,
   "id": "fb93d349",
   "metadata": {},
   "outputs": [
    {
     "ename": "NameError",
     "evalue": "name 'reduce' is not defined",
     "output_type": "error",
     "traceback": [
      "\u001b[1;31m---------------------------------------------------------------------------\u001b[0m",
      "\u001b[1;31mNameError\u001b[0m                                 Traceback (most recent call last)",
      "Cell \u001b[1;32mIn [10], line 1\u001b[0m\n\u001b[1;32m----> 1\u001b[0m \u001b[43mreduce\u001b[49m(\u001b[38;5;28;01mlambda\u001b[39;00m x,y: x\u001b[38;5;241m+\u001b[39my, L)\n",
      "\u001b[1;31mNameError\u001b[0m: name 'reduce' is not defined"
     ]
    }
   ],
   "source": [
    "reduce(lambda x,y: x+y, L)"
   ]
  },
  {
   "cell_type": "code",
   "execution_count": 11,
   "id": "906bcd2e",
   "metadata": {},
   "outputs": [
    {
     "data": {
      "text/plain": [
       "28"
      ]
     },
     "execution_count": 11,
     "metadata": {},
     "output_type": "execute_result"
    }
   ],
   "source": [
    "functools.reduce( lambda x,y :x+y,L)"
   ]
  },
  {
   "cell_type": "code",
   "execution_count": 12,
   "id": "bd376371",
   "metadata": {},
   "outputs": [
    {
     "data": {
      "text/plain": [
       "7"
      ]
     },
     "execution_count": 12,
     "metadata": {},
     "output_type": "execute_result"
    }
   ],
   "source": [
    "# greatest number in the llist\n",
    "\n",
    "\n",
    "functools.reduce(lambda x,y : x if x>y else y,L)"
   ]
  },
  {
   "cell_type": "code",
   "execution_count": null,
   "id": "cea13d1e",
   "metadata": {},
   "outputs": [],
   "source": []
  }
 ],
 "metadata": {
  "kernelspec": {
   "display_name": "Python 3 (ipykernel)",
   "language": "python",
   "name": "python3"
  },
  "language_info": {
   "codemirror_mode": {
    "name": "ipython",
    "version": 3
   },
   "file_extension": ".py",
   "mimetype": "text/x-python",
   "name": "python",
   "nbconvert_exporter": "python",
   "pygments_lexer": "ipython3",
   "version": "3.9.7"
  }
 },
 "nbformat": 4,
 "nbformat_minor": 5
}
