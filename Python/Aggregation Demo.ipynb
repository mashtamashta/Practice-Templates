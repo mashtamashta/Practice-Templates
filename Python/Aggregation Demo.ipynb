{
 "cells": [
  {
   "cell_type": "markdown",
   "id": "255ae5e4",
   "metadata": {},
   "source": [
    "Aggregation"
   ]
  },
  {
   "cell_type": "code",
   "execution_count": 1,
   "id": "fd94eb34",
   "metadata": {},
   "outputs": [],
   "source": [
    "class Customer:\n",
    "    \n",
    "    def __init__(self, name, gender,address):\n",
    "        self.name =name\n",
    "        self.gender = gender\n",
    "        self.address= address\n",
    "    \n",
    "    \n",
    "    \n",
    "class Address:\n",
    "    \n",
    "    def __init__(self, street, city, state, pin):\n",
    "        self.street = street\n",
    "        self.city = city\n",
    "        self.state = state\n",
    "        self.pin = pin\n",
    "        \n",
    "        \n",
    "        \n",
    "#Now Agrregation\n",
    "add = Address('INA road', 'New Delhi', 'Del', 110011)\n",
    "cust1 = Customer('Rahul',\"M\", add)"
   ]
  },
  {
   "cell_type": "code",
   "execution_count": 2,
   "id": "9989efd8",
   "metadata": {},
   "outputs": [
    {
     "name": "stdout",
     "output_type": "stream",
     "text": [
      "New Delhi\n"
     ]
    }
   ],
   "source": [
    "print(cust1.address.city)"
   ]
  },
  {
   "cell_type": "markdown",
   "id": "08f0fd52",
   "metadata": {},
   "source": [
    "Now lets say we need to updaate the details"
   ]
  },
  {
   "cell_type": "code",
   "execution_count": 32,
   "id": "47cb0ff0",
   "metadata": {},
   "outputs": [],
   "source": [
    "class Customer:\n",
    "    \n",
    "    def __init__(self, name, gender,address):\n",
    "        self.name =name\n",
    "        self.gender = gender\n",
    "        self.address= address\n",
    "    \n",
    "    def edit_profile(self, nname,new_city, new_state, new_pin ):   #2\n",
    "        self.name = nname\n",
    "        self.address.change_address(new_city, new_state, new_pin)\n",
    "    \n",
    "    \n",
    "class Address:\n",
    "    \n",
    "    def __init__(self, street, city, state, pin):\n",
    "        self.street = street\n",
    "        self.city = city\n",
    "        self.state = state\n",
    "        self.pin = pin\n",
    "        \n",
    "    def change_address(self, new_city, new_state, new_pin):  #1\n",
    "        self.city = new_city\n",
    "        self.pin = new_pin\n",
    "        self.state = new_state\n",
    "        \n",
    "        \n",
    "        \n",
    "add = Address('INA road', 'New Delhi', 'Del', 110011)\n",
    "cust1 = Customer('Rahul',\"M\", add)\n",
    "\n",
    "\n",
    "add2 = Address('xyz road', 'New Delhi', 'Del', 110034)\n",
    "cust2 = Customer('Ram',\"M\", add2)"
   ]
  },
  {
   "cell_type": "code",
   "execution_count": 33,
   "id": "be7b1954",
   "metadata": {},
   "outputs": [],
   "source": [
    "cust2.edit_profile(\"Zayn\",'GGR',\"Hr\",134212)"
   ]
  },
  {
   "cell_type": "code",
   "execution_count": 34,
   "id": "01d38dcd",
   "metadata": {},
   "outputs": [
    {
     "name": "stdout",
     "output_type": "stream",
     "text": [
      "Hr\n",
      "134212\n"
     ]
    }
   ],
   "source": [
    "print(cust2.address.state)\n",
    "print(cust2.address.pin)"
   ]
  },
  {
   "cell_type": "code",
   "execution_count": 35,
   "id": "b1e326c9",
   "metadata": {},
   "outputs": [
    {
     "name": "stdout",
     "output_type": "stream",
     "text": [
      "Zayn\n",
      "M\n"
     ]
    }
   ],
   "source": [
    "print(cust2.name)\n",
    "print(cust2.gender)"
   ]
  },
  {
   "cell_type": "code",
   "execution_count": null,
   "id": "3087d0fa",
   "metadata": {},
   "outputs": [],
   "source": []
  }
 ],
 "metadata": {
  "kernelspec": {
   "display_name": "Python 3 (ipykernel)",
   "language": "python",
   "name": "python3"
  },
  "language_info": {
   "codemirror_mode": {
    "name": "ipython",
    "version": 3
   },
   "file_extension": ".py",
   "mimetype": "text/x-python",
   "name": "python",
   "nbconvert_exporter": "python",
   "pygments_lexer": "ipython3",
   "version": "3.9.7"
  }
 },
 "nbformat": 4,
 "nbformat_minor": 5
}
