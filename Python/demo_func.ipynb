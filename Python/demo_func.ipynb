{
 "cells": [
  {
   "cell_type": "code",
   "execution_count": 2,
   "id": "099122f2",
   "metadata": {},
   "outputs": [],
   "source": [
    "# Creating a function\n",
    "def is_even(i):\n",
    "        \"\"\" Doc String/ :\n",
    "        This Function takes an integer i and returrns whether its even or not.\n",
    "        Input : Any valid integer\n",
    "        output : odd or even\n",
    "        created by Pranshul on date\n",
    "        last edited on Date by Pranshul\n",
    "        \"\"\"\n",
    "        if i %2 ==0:\n",
    "            return 'Even'\n",
    "        else:\n",
    "            return 'Odd'"
   ]
  },
  {
   "cell_type": "code",
   "execution_count": 4,
   "id": "7701413e",
   "metadata": {},
   "outputs": [
    {
     "data": {
      "text/plain": [
       "'Odd'"
      ]
     },
     "execution_count": 4,
     "metadata": {},
     "output_type": "execute_result"
    }
   ],
   "source": [
    "# calling a function\n",
    "is_even(45)\n"
   ]
  },
  {
   "cell_type": "code",
   "execution_count": 5,
   "id": "febe0a42",
   "metadata": {},
   "outputs": [
    {
     "data": {
      "text/plain": [
       "'Even'"
      ]
     },
     "execution_count": 5,
     "metadata": {},
     "output_type": "execute_result"
    }
   ],
   "source": [
    "is_even(22)"
   ]
  },
  {
   "cell_type": "code",
   "execution_count": 6,
   "id": "0c81e5e9",
   "metadata": {},
   "outputs": [
    {
     "name": "stdout",
     "output_type": "stream",
     "text": [
      "Odd\n",
      "Even\n",
      "Odd\n",
      "Even\n",
      "Odd\n",
      "Even\n",
      "Odd\n",
      "Even\n",
      "Odd\n",
      "Even\n"
     ]
    }
   ],
   "source": [
    "for i in range(1,11):\n",
    "    print(is_even(i))"
   ]
  },
  {
   "cell_type": "code",
   "execution_count": 7,
   "id": "81602d1e",
   "metadata": {},
   "outputs": [
    {
     "name": "stdout",
     "output_type": "stream",
     "text": [
      " Doc String/ :\n",
      "        This Function takes an integer i and returrns whether its even or not.\n",
      "        Input : Any valid integer\n",
      "        output : odd or even\n",
      "        created by Pranshul on date\n",
      "        last edited on Date by Pranshul\n",
      "        \n"
     ]
    }
   ],
   "source": [
    "#Prinnting documentation of the function .__do c__\n",
    "print(is_even.__doc__)"
   ]
  },
  {
   "cell_type": "code",
   "execution_count": 8,
   "id": "765ddb85",
   "metadata": {},
   "outputs": [],
   "source": [
    "## Creating a function with arbitar argumrnt\n",
    "# Hanldes various numbers of inputs and gives its product\n",
    "\n",
    "\n",
    "def flexi(*number):  #  *Number gives flexibiliy and will be stored as a tuple\n",
    "    product = 1\n",
    "    for i in number:\n",
    "        product = product*i\n",
    "        \n",
    "    return product\n",
    "\n",
    "\n"
   ]
  },
  {
   "cell_type": "code",
   "execution_count": 9,
   "id": "688faa0c",
   "metadata": {},
   "outputs": [
    {
     "data": {
      "text/plain": [
       "1"
      ]
     },
     "execution_count": 9,
     "metadata": {},
     "output_type": "execute_result"
    }
   ],
   "source": [
    "flexi(1)"
   ]
  },
  {
   "cell_type": "code",
   "execution_count": 10,
   "id": "b9c97173",
   "metadata": {},
   "outputs": [
    {
     "data": {
      "text/plain": [
       "2"
      ]
     },
     "execution_count": 10,
     "metadata": {},
     "output_type": "execute_result"
    }
   ],
   "source": [
    "flexi(1,2)"
   ]
  },
  {
   "cell_type": "code",
   "execution_count": 11,
   "id": "de954bcf",
   "metadata": {},
   "outputs": [
    {
     "data": {
      "text/plain": [
       "720"
      ]
     },
     "execution_count": 11,
     "metadata": {},
     "output_type": "execute_result"
    }
   ],
   "source": [
    "flexi(2,3,4,5,6)"
   ]
  },
  {
   "cell_type": "code",
   "execution_count": null,
   "id": "5b8b1f2c",
   "metadata": {},
   "outputs": [],
   "source": [
    " "
   ]
  }
 ],
 "metadata": {
  "kernelspec": {
   "display_name": "Python 3 (ipykernel)",
   "language": "python",
   "name": "python3"
  },
  "language_info": {
   "codemirror_mode": {
    "name": "ipython",
    "version": 3
   },
   "file_extension": ".py",
   "mimetype": "text/x-python",
   "name": "python",
   "nbconvert_exporter": "python",
   "pygments_lexer": "ipython3",
   "version": "3.9.7"
  }
 },
 "nbformat": 4,
 "nbformat_minor": 5
}
