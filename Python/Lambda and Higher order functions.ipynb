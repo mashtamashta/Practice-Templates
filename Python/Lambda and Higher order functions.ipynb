{
 "cells": [
  {
   "cell_type": "markdown",
   "id": "a136156e",
   "metadata": {},
   "source": [
    "# Syntax : lambda inout: expression"
   ]
  },
  {
   "cell_type": "code",
   "execution_count": 1,
   "id": "a3ece888",
   "metadata": {},
   "outputs": [
    {
     "data": {
      "text/plain": [
       "4"
      ]
     },
     "execution_count": 1,
     "metadata": {},
     "output_type": "execute_result"
    }
   ],
   "source": [
    "a = lambda x : x**2\n",
    "a(2)"
   ]
  },
  {
   "cell_type": "code",
   "execution_count": 2,
   "id": "3ef92660",
   "metadata": {},
   "outputs": [
    {
     "data": {
      "text/plain": [
       "5"
      ]
     },
     "execution_count": 2,
     "metadata": {},
     "output_type": "execute_result"
    }
   ],
   "source": [
    "b = lambda x,y: x+y\n",
    "b(2,3)"
   ]
  },
  {
   "cell_type": "code",
   "execution_count": 9,
   "id": "94d0af31",
   "metadata": {},
   "outputs": [
    {
     "name": "stdout",
     "output_type": "stream",
     "text": [
      "True\n"
     ]
    },
    {
     "data": {
      "text/plain": [
       "False"
      ]
     },
     "execution_count": 9,
     "metadata": {},
     "output_type": "execute_result"
    }
   ],
   "source": [
    "# Functionn to check whether first charactrer of input is a or A\n",
    "\n",
    "a = lambda x :x[0]== \"a\"\n",
    "\n",
    "\n",
    "print(a('apple'))\n",
    "a('Ball')\n"
   ]
  },
  {
   "cell_type": "code",
   "execution_count": 11,
   "id": "92024cfd",
   "metadata": {},
   "outputs": [],
   "source": [
    "# Given number is odd or even\n",
    "\n",
    "b = lambda x : \"even\" if x%2 ==0 else ' Odd'"
   ]
  },
  {
   "cell_type": "code",
   "execution_count": 12,
   "id": "c818337d",
   "metadata": {},
   "outputs": [
    {
     "data": {
      "text/plain": [
       "' Odd'"
      ]
     },
     "execution_count": 12,
     "metadata": {},
     "output_type": "execute_result"
    }
   ],
   "source": [
    "b(3)"
   ]
  },
  {
   "cell_type": "code",
   "execution_count": 15,
   "id": "8b124e0b",
   "metadata": {},
   "outputs": [
    {
     "data": {
      "text/plain": [
       "'even'"
      ]
     },
     "execution_count": 15,
     "metadata": {},
     "output_type": "execute_result"
    }
   ],
   "source": [
    "b(4)"
   ]
  },
  {
   "cell_type": "markdown",
   "id": "3d47699a",
   "metadata": {},
   "source": [
    "## Higher order functions"
   ]
  },
  {
   "cell_type": "code",
   "execution_count": 17,
   "id": "4ca8887c",
   "metadata": {},
   "outputs": [
    {
     "name": "stdout",
     "output_type": "stream",
     "text": [
      "176\n",
      "129\n",
      "144\n"
     ]
    }
   ],
   "source": [
    "# sum of even nums , sum of divisible by 3 , sum of odd nums\n",
    "\n",
    "L= [11,14,21,23,56,78,45,29,28]\n",
    "\n",
    "def ret_sum(func,L):\n",
    "    result = 0\n",
    "    for i in L:\n",
    "        if func(i):\n",
    "            result = result+i\n",
    "    return result\n",
    "\n",
    "\n",
    "x = lambda x : x%2 == 0\n",
    "y = lambda x : x%2 != 0\n",
    "z = lambda x : x%3 == 0\n",
    "\n",
    "\n",
    "print(ret_sum(x,L))\n",
    "print(ret_sum(y,L))\n",
    "print(ret_sum(z,L))"
   ]
  },
  {
   "cell_type": "code",
   "execution_count": null,
   "id": "ad8c4437",
   "metadata": {},
   "outputs": [],
   "source": []
  }
 ],
 "metadata": {
  "kernelspec": {
   "display_name": "Python 3 (ipykernel)",
   "language": "python",
   "name": "python3"
  },
  "language_info": {
   "codemirror_mode": {
    "name": "ipython",
    "version": 3
   },
   "file_extension": ".py",
   "mimetype": "text/x-python",
   "name": "python",
   "nbconvert_exporter": "python",
   "pygments_lexer": "ipython3",
   "version": "3.9.7"
  }
 },
 "nbformat": 4,
 "nbformat_minor": 5
}
