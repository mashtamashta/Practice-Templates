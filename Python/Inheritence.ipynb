{
 "cells": [
  {
   "cell_type": "code",
   "execution_count": 1,
   "id": "43bc4a10",
   "metadata": {},
   "outputs": [],
   "source": [
    "class User:\n",
    "    \n",
    "    def login(self):\n",
    "        print('Login Succesful!')\n",
    "        \n",
    "    def register(self):\n",
    "        print('Login Successful!')\n",
    "        \n",
    "class Student(User): #Inheriting properties of User class\n",
    "    \n",
    "    def enroll(self):\n",
    "        print('Enrollment successful!')\n",
    "    \n",
    "    def review(self):\n",
    "        print('Revoew Successful!')\n",
    "        \n",
    "        \n",
    "stu1 = Student()  \n"
   ]
  },
  {
   "cell_type": "code",
   "execution_count": 3,
   "id": "54bbcbbc",
   "metadata": {},
   "outputs": [
    {
     "name": "stdout",
     "output_type": "stream",
     "text": [
      "<bound method Student.enroll of <__main__.Student object at 0x000002C71947AE50>>\n",
      "<bound method User.login of <__main__.Student object at 0x000002C71947AE50>>\n"
     ]
    }
   ],
   "source": [
    "print(stu1.enroll)\n",
    "print(stu1.login)"
   ]
  },
  {
   "cell_type": "code",
   "execution_count": 4,
   "id": "066c0979",
   "metadata": {},
   "outputs": [
    {
     "name": "stdout",
     "output_type": "stream",
     "text": [
      "Enrollment successful!\n",
      "Login Succesful!\n"
     ]
    }
   ],
   "source": [
    "stu1.enroll()\n",
    "stu1.login()"
   ]
  },
  {
   "cell_type": "code",
   "execution_count": 5,
   "id": "12a86b9a",
   "metadata": {},
   "outputs": [],
   "source": [
    "#child class obj can access all the data of both classes"
   ]
  },
  {
   "cell_type": "code",
   "execution_count": 6,
   "id": "b5c03ad8",
   "metadata": {},
   "outputs": [
    {
     "name": "stdout",
     "output_type": "stream",
     "text": [
      "Login Succesful!\n"
     ]
    },
    {
     "ename": "AttributeError",
     "evalue": "'User' object has no attribute 'enroll'",
     "output_type": "error",
     "traceback": [
      "\u001b[1;31m---------------------------------------------------------------------------\u001b[0m",
      "\u001b[1;31mAttributeError\u001b[0m                            Traceback (most recent call last)",
      "Cell \u001b[1;32mIn [6], line 4\u001b[0m\n\u001b[0;32m      2\u001b[0m u \u001b[38;5;241m=\u001b[39m User()\n\u001b[0;32m      3\u001b[0m u\u001b[38;5;241m.\u001b[39mlogin()\n\u001b[1;32m----> 4\u001b[0m \u001b[43mu\u001b[49m\u001b[38;5;241;43m.\u001b[39;49m\u001b[43menroll\u001b[49m()\n",
      "\u001b[1;31mAttributeError\u001b[0m: 'User' object has no attribute 'enroll'"
     ]
    }
   ],
   "source": [
    "#Parent class cannot access child class\n",
    "u = User()\n",
    "u.login()\n",
    "u.enroll()"
   ]
  },
  {
   "cell_type": "code",
   "execution_count": null,
   "id": "195e234b",
   "metadata": {},
   "outputs": [],
   "source": []
  }
 ],
 "metadata": {
  "kernelspec": {
   "display_name": "Python 3 (ipykernel)",
   "language": "python",
   "name": "python3"
  },
  "language_info": {
   "codemirror_mode": {
    "name": "ipython",
    "version": 3
   },
   "file_extension": ".py",
   "mimetype": "text/x-python",
   "name": "python",
   "nbconvert_exporter": "python",
   "pygments_lexer": "ipython3",
   "version": "3.9.7"
  }
 },
 "nbformat": 4,
 "nbformat_minor": 5
}
