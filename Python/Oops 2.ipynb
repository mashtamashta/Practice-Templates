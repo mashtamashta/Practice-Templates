{
 "cells": [
  {
   "cell_type": "markdown",
   "id": "c378ec73",
   "metadata": {},
   "source": [
    "Static"
   ]
  },
  {
   "cell_type": "markdown",
   "id": "b1c4e183",
   "metadata": {},
   "source": [
    "#S.no\n",
    "# Now adding methods\n",
    "class Atm:\n",
    "    #static variable for S.no or ifsc code etc\n",
    "    counter = 1\n",
    "    \n",
    "    def __init__(self):\n",
    "        \n",
    "        self.pin = \"\"   #Instance variable\n",
    "        self.balance = 0\n",
    "        self.sno = Atm.counter\n",
    "        Atm.counter = Atm.counter+1  #implementation of static variable\n",
    "        self.menu()\n",
    "        \n",
    "    def menu(self):\n",
    "        user_input = input(\"\"\"\n",
    "            Hello, welcome to banking menu,\n",
    "            Please select your desired option\n",
    "            1. Enter 1 to create pin\n",
    "            2. Enter 2 to deposit\n",
    "            3. Enter 3 to withdraw\n",
    "            4. Enter 4 to check balance\n",
    "            5. Enter 5 to exit \"\"\")\n",
    "        if user_input == '1':\n",
    "            self.create_pin()\n",
    "        elif user_input == '2':\n",
    "            self.deposit()\n",
    "        elif user_input == '3':\n",
    "            self.withdrawl()\n",
    "        elif user_input == '4':\n",
    "            self.balance_check()\n",
    "        elif user_input == '5':\n",
    "            print(\"GoodBye, Have a nice day!\")\n",
    "        else:\n",
    "            print('Invalid input !!!')\n",
    "            \n",
    "    def create_pin(self):\n",
    "        self.pin = input('Enter Pin')\n",
    "        print('Pin set successfully!')\n",
    "        \n",
    "    def deposit(self):\n",
    "        temp = input(\"Enter your pin!\")\n",
    "        if temp== self.pin:\n",
    "            amount = int(input('Enter the amount!'))\n",
    "            self.balance = self.balance+ amount \n",
    "            print('Deposit Successful!')\n",
    "        else:\n",
    "            print('Invalid Pin!!!')\n",
    "            \n",
    "            \n",
    "    def withdrawl(self):\n",
    "        temp1 = input(\"Enter your pin!\")\n",
    "        if temp1 == self.pin:\n",
    "            amount1 = int(input(\"Enter amount to be withdrawn!\"))\n",
    "            if amount1 <= self.balance:\n",
    "                self.balance = self.balance - amount1\n",
    "                print('Withdrawl successful!')\n",
    "            else:\n",
    "                print('Insufficient Balance!')\n",
    "        else:\n",
    "            print(\"invalid pin!\")\n",
    "            \n",
    "     \n",
    "    def balance_check(self):\n",
    "        temp1 = input(\"Enter your pin!\")\n",
    "        if temp1 == self.pin:\n",
    "            print(self.balance)\n",
    "        else:\n",
    "            print(\"Incorrect Pin!\")"
   ]
  },
  {
   "cell_type": "code",
   "execution_count": 1,
   "id": "fbafa54f",
   "metadata": {},
   "outputs": [],
   "source": [
    "#S.no\n",
    "# Now adding methods\n",
    "class Atm:\n",
    "    #static variable for S.no or ifsc code etc\n",
    "    #since counter can be changed from oustide class thus we use encapsulation usniong __\n",
    "    \n",
    "    __counter = 1\n",
    "    \n",
    "    def __init__(self):\n",
    "        \n",
    "        self.pin = \"\"   #Instance variable\n",
    "        self.balance = 0\n",
    "        self.sno = Atm.__counter\n",
    "        Atm.__counter = Atm.__counter+1  #implementation of static variable\n",
    "        self.menu()\n",
    "        \n",
    "    #Now we create a saperate method for accessing and changing S.No if requiored\n",
    "    @staticmethod\n",
    "    # while using static variables we dont need self \n",
    "    def get_counter():\n",
    "        return Atm.__counter\n",
    "    @staticmethod\n",
    "    def set_counter(new_counter):\n",
    "        if type(new_counter) == int:\n",
    "            Atm.__counter = new_counter\n",
    "            print('Counter Updated!')\n",
    "        else:\n",
    "            print(\"Not Allowed!\")\n",
    "    #We dont need objects to run static methods thus @static method is used to denote it.   \n",
    "    def menu(self):\n",
    "        user_input = input(\"\"\"\n",
    "            Hello, welcome to banking menu,\n",
    "            Please select your desired option\n",
    "            1. Enter 1 to create pin\n",
    "            2. Enter 2 to deposit\n",
    "            3. Enter 3 to withdraw\n",
    "            4. Enter 4 to check balance\n",
    "            5. Enter 5 to exit \"\"\")\n",
    "        if user_input == '1':\n",
    "            self.create_pin()\n",
    "        elif user_input == '2':\n",
    "            self.deposit()\n",
    "        elif user_input == '3':\n",
    "            self.withdrawl()\n",
    "        elif user_input == '4':\n",
    "            self.balance_check()\n",
    "        elif user_input == '5':\n",
    "            print(\"GoodBye, Have a nice day!\")\n",
    "        else:\n",
    "            print('Invalid input !!!')\n",
    "            \n",
    "    def create_pin(self):\n",
    "        self.pin = input('Enter Pin')\n",
    "        print('Pin set successfully!')\n",
    "        \n",
    "    def deposit(self):\n",
    "        temp = input(\"Enter your pin!\")\n",
    "        if temp== self.pin:\n",
    "            amount = int(input('Enter the amount!'))\n",
    "            self.balance = self.balance+ amount \n",
    "            print('Deposit Successful!')\n",
    "        else:\n",
    "            print('Invalid Pin!!!')\n",
    "            \n",
    "            \n",
    "    def withdrawl(self):\n",
    "        temp1 = input(\"Enter your pin!\")\n",
    "        if temp1 == self.pin:\n",
    "            amount1 = int(input(\"Enter amount to be withdrawn!\"))\n",
    "            if amount1 <= self.balance:\n",
    "                self.balance = self.balance - amount1\n",
    "                print('Withdrawl successful!')\n",
    "            else:\n",
    "                print('Insufficient Balance!')\n",
    "        else:\n",
    "            print(\"invalid pin!\")\n",
    "            \n",
    "     \n",
    "    def balance_check(self):\n",
    "        temp1 = input(\"Enter your pin!\")\n",
    "        if temp1 == self.pin:\n",
    "            print(self.balance)\n",
    "        else:\n",
    "            print(\"Incorrect Pin!\")"
   ]
  },
  {
   "cell_type": "code",
   "execution_count": 2,
   "id": "d25fce1e",
   "metadata": {},
   "outputs": [
    {
     "data": {
      "text/plain": [
       "1"
      ]
     },
     "execution_count": 2,
     "metadata": {},
     "output_type": "execute_result"
    }
   ],
   "source": [
    "Atm.get_counter()"
   ]
  },
  {
   "cell_type": "code",
   "execution_count": 3,
   "id": "d090c66c",
   "metadata": {},
   "outputs": [
    {
     "name": "stdout",
     "output_type": "stream",
     "text": [
      "Counter Updated!\n"
     ]
    }
   ],
   "source": [
    "Atm.set_counter(3)"
   ]
  },
  {
   "cell_type": "code",
   "execution_count": 4,
   "id": "542eecb5",
   "metadata": {},
   "outputs": [
    {
     "data": {
      "text/plain": [
       "3"
      ]
     },
     "execution_count": 4,
     "metadata": {},
     "output_type": "execute_result"
    }
   ],
   "source": [
    "Atm.get_counter()"
   ]
  },
  {
   "cell_type": "code",
   "execution_count": null,
   "id": "3cbf4017",
   "metadata": {},
   "outputs": [],
   "source": []
  }
 ],
 "metadata": {
  "kernelspec": {
   "display_name": "Python 3 (ipykernel)",
   "language": "python",
   "name": "python3"
  },
  "language_info": {
   "codemirror_mode": {
    "name": "ipython",
    "version": 3
   },
   "file_extension": ".py",
   "mimetype": "text/x-python",
   "name": "python",
   "nbconvert_exporter": "python",
   "pygments_lexer": "ipython3",
   "version": "3.9.7"
  }
 },
 "nbformat": 4,
 "nbformat_minor": 5
}
