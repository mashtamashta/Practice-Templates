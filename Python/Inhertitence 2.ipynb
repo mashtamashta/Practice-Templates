{
 "cells": [
  {
   "cell_type": "markdown",
   "id": "6b64b0e0",
   "metadata": {},
   "source": [
    "interiting constructor as well"
   ]
  },
  {
   "cell_type": "code",
   "execution_count": 2,
   "id": "20d746bd",
   "metadata": {},
   "outputs": [
    {
     "name": "stdout",
     "output_type": "stream",
     "text": [
      "Inside constructor\n"
     ]
    }
   ],
   "source": [
    "class Phone:\n",
    "    \n",
    "    def __init__(self,price,brand,camera):\n",
    "        print('Inside constructor')\n",
    "        self.price= price\n",
    "        self.brand = brand\n",
    "        self.camera = camera\n",
    "        \n",
    "    def buy(self):\n",
    "        print('Phone bought!')\n",
    "        \n",
    "    def return_phone(self):\n",
    "        print(\"Returning the phone!\")\n",
    "        \n",
    "        \n",
    "        \n",
    "class FeaturePhone(Phone):\n",
    "    pass\n",
    "\n",
    "class SmartPhone(Phone):\n",
    "    pass\n",
    "\n",
    "\n",
    "s = SmartPhone(25000,\"samsung\",20)"
   ]
  },
  {
   "cell_type": "markdown",
   "id": "64f33ffc",
   "metadata": {},
   "source": [
    "If there's no constructor in child class, it will inherit the constructor of the parent class!"
   ]
  },
  {
   "cell_type": "markdown",
   "id": "e4115972",
   "metadata": {},
   "source": [
    "Now using private members in parent class!"
   ]
  },
  {
   "cell_type": "code",
   "execution_count": 3,
   "id": "713163eb",
   "metadata": {},
   "outputs": [
    {
     "name": "stdout",
     "output_type": "stream",
     "text": [
      "Inside constructor\n"
     ]
    }
   ],
   "source": [
    "# Brand is made private\n",
    "\n",
    "class Phone:\n",
    "    \n",
    "    def __init__(self,price,brand,camera):\n",
    "        print('Inside constructor')\n",
    "        self.price= price\n",
    "        self.__brand = brand #-- made it private\n",
    "        self.camera = camera\n",
    "        \n",
    "    def buy(self):\n",
    "        print('Phone bought!')\n",
    "        \n",
    "    def return_phone(self):\n",
    "        print(\"Returning the phone!\")\n",
    "        \n",
    "        \n",
    "        \n",
    "class FeaturePhone(Phone):\n",
    "    pass\n",
    "\n",
    "class SmartPhone(Phone):\n",
    "    pass\n",
    "\n",
    "\n",
    "s = SmartPhone(25000,\"samsung\",20)"
   ]
  },
  {
   "cell_type": "code",
   "execution_count": 4,
   "id": "700c06ee",
   "metadata": {},
   "outputs": [
    {
     "ename": "AttributeError",
     "evalue": "'SmartPhone' object has no attribute 'brand'",
     "output_type": "error",
     "traceback": [
      "\u001b[1;31m---------------------------------------------------------------------------\u001b[0m",
      "\u001b[1;31mAttributeError\u001b[0m                            Traceback (most recent call last)",
      "Cell \u001b[1;32mIn [4], line 1\u001b[0m\n\u001b[1;32m----> 1\u001b[0m \u001b[43ms\u001b[49m\u001b[38;5;241;43m.\u001b[39;49m\u001b[43mbrand\u001b[49m()\n",
      "\u001b[1;31mAttributeError\u001b[0m: 'SmartPhone' object has no attribute 'brand'"
     ]
    }
   ],
   "source": [
    "s.brand()"
   ]
  },
  {
   "cell_type": "markdown",
   "id": "f627a7b9",
   "metadata": {},
   "source": [
    "Now having same methods in noth classes"
   ]
  },
  {
   "cell_type": "code",
   "execution_count": 5,
   "id": "6a3a60ba",
   "metadata": {},
   "outputs": [
    {
     "name": "stdout",
     "output_type": "stream",
     "text": [
      "Inside constructor\n"
     ]
    }
   ],
   "source": [
    "# Brand is made private\n",
    "\n",
    "class Phone:\n",
    "    \n",
    "    def __init__(self,price,brand,camera):\n",
    "        print('Inside constructor')\n",
    "        self.price= price\n",
    "        self.__brand = brand #-- made it private\n",
    "        self.camera = camera\n",
    "        \n",
    "    def buy(self):\n",
    "        print('Phone bought!')\n",
    "        \n",
    "    def return_phone(self):\n",
    "        print(\"Returning the phone!\")\n",
    "        \n",
    "        \n",
    "        \n",
    "class FeaturePhone(Phone):\n",
    "    pass\n",
    "\n",
    "class SmartPhone(Phone):\n",
    "    \n",
    "    \n",
    "    def buy(self):\n",
    "        print(\"Buying Smartphone!!!\")  #same function in chilf class\n",
    "\n",
    "\n",
    "s = SmartPhone(25000,\"samsung\",20)"
   ]
  },
  {
   "cell_type": "code",
   "execution_count": 6,
   "id": "4d36fe95",
   "metadata": {},
   "outputs": [
    {
     "name": "stdout",
     "output_type": "stream",
     "text": [
      "Buying Smartphone!!!\n"
     ]
    }
   ],
   "source": [
    "s.buy()"
   ]
  },
  {
   "cell_type": "markdown",
   "id": "12e65861",
   "metadata": {},
   "source": [
    "method overriding!!!\n",
    "Thus when we inherit the class, the method of parent class is overwrittnen incase if same methods in parent and child class!\n",
    "Method of child class will take over"
   ]
  },
  {
   "cell_type": "code",
   "execution_count": null,
   "id": "2663a1fc",
   "metadata": {},
   "outputs": [],
   "source": []
  }
 ],
 "metadata": {
  "kernelspec": {
   "display_name": "Python 3 (ipykernel)",
   "language": "python",
   "name": "python3"
  },
  "language_info": {
   "codemirror_mode": {
    "name": "ipython",
    "version": 3
   },
   "file_extension": ".py",
   "mimetype": "text/x-python",
   "name": "python",
   "nbconvert_exporter": "python",
   "pygments_lexer": "ipython3",
   "version": "3.9.7"
  }
 },
 "nbformat": 4,
 "nbformat_minor": 5
}
